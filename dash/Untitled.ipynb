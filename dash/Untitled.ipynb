{
 "cells": [
  {
   "cell_type": "code",
   "execution_count": 1,
   "metadata": {},
   "outputs": [],
   "source": [
    "import os\n",
    "import pandas as pd"
   ]
  },
  {
   "cell_type": "code",
   "execution_count": 2,
   "metadata": {},
   "outputs": [
    {
     "data": {
      "text/plain": [
       "['2020-01-29.txt', '2020-01-28.txt', '.DS_Store']"
      ]
     },
     "execution_count": 2,
     "metadata": {},
     "output_type": "execute_result"
    }
   ],
   "source": [
    "os.listdir('../../database/senti/jisilu/')"
   ]
  },
  {
   "cell_type": "code",
   "execution_count": 7,
   "metadata": {},
   "outputs": [],
   "source": [
    "df1 = pd.read_csv('../../database/senti/jisilu/2020-01-29.txt',  index_col=False)\n",
    "df2 = pd.read_csv('../../database/senti/jisilu/2020-01-28.txt',  index_col=False)"
   ]
  },
  {
   "cell_type": "code",
   "execution_count": 8,
   "metadata": {},
   "outputs": [
    {
     "data": {
      "text/plain": [
       "Index(['topic', 'title', 'link', 'reply', 'viewers', 'updated'], dtype='object')"
      ]
     },
     "execution_count": 8,
     "metadata": {},
     "output_type": "execute_result"
    }
   ],
   "source": [
    "df1.columns"
   ]
  },
  {
   "cell_type": "code",
   "execution_count": 9,
   "metadata": {},
   "outputs": [
    {
     "data": {
      "text/plain": [
       "Index(['topic', 'title', 'link', 'reply', 'viewers', 'updated'], dtype='object')"
      ]
     },
     "execution_count": 9,
     "metadata": {},
     "output_type": "execute_result"
    }
   ],
   "source": [
    "df2.columns"
   ]
  },
  {
   "cell_type": "code",
   "execution_count": 50,
   "metadata": {},
   "outputs": [],
   "source": [
    "df1.drop('Unnamed: 0', axis=1).to_csv('../../database/senti/jisilu/2020-01-29.txt', index=False)"
   ]
  },
  {
   "cell_type": "code",
   "execution_count": 51,
   "metadata": {},
   "outputs": [],
   "source": [
    "df2.drop('Unnamed: 0', axis=1).to_csv('../../database/senti/jisilu/2020-01-28.txt', index=False)"
   ]
  },
  {
   "cell_type": "code",
   "execution_count": 13,
   "metadata": {},
   "outputs": [
    {
     "data": {
      "text/plain": [
       "Index(['topic', 'title', 'link', 'reply', 'viewers', 'updated'], dtype='object')"
      ]
     },
     "execution_count": 13,
     "metadata": {},
     "output_type": "execute_result"
    }
   ],
   "source": [
    "df1.columns"
   ]
  },
  {
   "cell_type": "code",
   "execution_count": 18,
   "metadata": {},
   "outputs": [],
   "source": [
    "df = pd.concat([df1, df2], axis=0, ignore_index=True)"
   ]
  },
  {
   "cell_type": "code",
   "execution_count": 19,
   "metadata": {},
   "outputs": [],
   "source": [
    "df['date'] = [i[:10] for i in list(df['updated'])]"
   ]
  },
  {
   "cell_type": "code",
   "execution_count": 20,
   "metadata": {},
   "outputs": [
    {
     "data": {
      "text/html": [
       "<div>\n",
       "<style scoped>\n",
       "    .dataframe tbody tr th:only-of-type {\n",
       "        vertical-align: middle;\n",
       "    }\n",
       "\n",
       "    .dataframe tbody tr th {\n",
       "        vertical-align: top;\n",
       "    }\n",
       "\n",
       "    .dataframe thead th {\n",
       "        text-align: right;\n",
       "    }\n",
       "</style>\n",
       "<table border=\"1\" class=\"dataframe\">\n",
       "  <thead>\n",
       "    <tr style=\"text-align: right;\">\n",
       "      <th></th>\n",
       "      <th>topic</th>\n",
       "      <th>title</th>\n",
       "      <th>link</th>\n",
       "      <th>reply</th>\n",
       "      <th>viewers</th>\n",
       "      <th>updated</th>\n",
       "      <th>date</th>\n",
       "    </tr>\n",
       "  </thead>\n",
       "  <tbody>\n",
       "    <tr>\n",
       "      <td>0</td>\n",
       "      <td>其他</td>\n",
       "      <td>340万套防护服？</td>\n",
       "      <td>https://www.jisilu.cn/question/347885</td>\n",
       "      <td>0</td>\n",
       "      <td>35</td>\n",
       "      <td>2020-01-30 00:58:00</td>\n",
       "      <td>2020-01-30</td>\n",
       "    </tr>\n",
       "    <tr>\n",
       "      <td>1</td>\n",
       "      <td>其他</td>\n",
       "      <td>WHO什么时候再对疫区投票？</td>\n",
       "      <td>https://www.jisilu.cn/question/347884</td>\n",
       "      <td>6</td>\n",
       "      <td>307</td>\n",
       "      <td>2020-01-30 01:02:00</td>\n",
       "      <td>2020-01-30</td>\n",
       "    </tr>\n",
       "    <tr>\n",
       "      <td>2</td>\n",
       "      <td>其他</td>\n",
       "      <td>离异无孩男有什么渠道再找合适的人呢?</td>\n",
       "      <td>https://www.jisilu.cn/question/347882</td>\n",
       "      <td>10</td>\n",
       "      <td>536</td>\n",
       "      <td>2020-01-29 23:29:00</td>\n",
       "      <td>2020-01-29</td>\n",
       "    </tr>\n",
       "  </tbody>\n",
       "</table>\n",
       "</div>"
      ],
      "text/plain": [
       "  topic               title                                   link  reply  \\\n",
       "0    其他           340万套防护服？  https://www.jisilu.cn/question/347885      0   \n",
       "1    其他      WHO什么时候再对疫区投票？  https://www.jisilu.cn/question/347884      6   \n",
       "2    其他  离异无孩男有什么渠道再找合适的人呢?  https://www.jisilu.cn/question/347882     10   \n",
       "\n",
       "   viewers              updated        date  \n",
       "0       35  2020-01-30 00:58:00  2020-01-30  \n",
       "1      307  2020-01-30 01:02:00  2020-01-30  \n",
       "2      536  2020-01-29 23:29:00  2020-01-29  "
      ]
     },
     "execution_count": 20,
     "metadata": {},
     "output_type": "execute_result"
    }
   ],
   "source": [
    "df.head(3)"
   ]
  },
  {
   "cell_type": "code",
   "execution_count": 22,
   "metadata": {},
   "outputs": [
    {
     "data": {
      "text/html": [
       "<div>\n",
       "<style scoped>\n",
       "    .dataframe tbody tr th:only-of-type {\n",
       "        vertical-align: middle;\n",
       "    }\n",
       "\n",
       "    .dataframe tbody tr th {\n",
       "        vertical-align: top;\n",
       "    }\n",
       "\n",
       "    .dataframe thead th {\n",
       "        text-align: right;\n",
       "    }\n",
       "</style>\n",
       "<table border=\"1\" class=\"dataframe\">\n",
       "  <thead>\n",
       "    <tr style=\"text-align: right;\">\n",
       "      <th></th>\n",
       "      <th>title</th>\n",
       "      <th>reply</th>\n",
       "      <th>viewers</th>\n",
       "    </tr>\n",
       "    <tr>\n",
       "      <th>date</th>\n",
       "      <th></th>\n",
       "      <th></th>\n",
       "      <th></th>\n",
       "    </tr>\n",
       "  </thead>\n",
       "  <tbody>\n",
       "    <tr>\n",
       "      <td>2020-01-28</td>\n",
       "      <td>90</td>\n",
       "      <td>1310</td>\n",
       "      <td>113643</td>\n",
       "    </tr>\n",
       "    <tr>\n",
       "      <td>2020-01-29</td>\n",
       "      <td>109</td>\n",
       "      <td>1751</td>\n",
       "      <td>140592</td>\n",
       "    </tr>\n",
       "    <tr>\n",
       "      <td>2020-01-30</td>\n",
       "      <td>17</td>\n",
       "      <td>429</td>\n",
       "      <td>19695</td>\n",
       "    </tr>\n",
       "  </tbody>\n",
       "</table>\n",
       "</div>"
      ],
      "text/plain": [
       "            title  reply  viewers\n",
       "date                             \n",
       "2020-01-28     90   1310   113643\n",
       "2020-01-29    109   1751   140592\n",
       "2020-01-30     17    429    19695"
      ]
     },
     "execution_count": 22,
     "metadata": {},
     "output_type": "execute_result"
    }
   ],
   "source": [
    "df.groupby('date')['title', 'reply', 'viewers'].agg({'title': 'count', 'reply': 'sum', 'viewers':'sum'})"
   ]
  },
  {
   "cell_type": "code",
   "execution_count": 26,
   "metadata": {},
   "outputs": [
    {
     "data": {
      "text/html": [
       "<div>\n",
       "<style scoped>\n",
       "    .dataframe tbody tr th:only-of-type {\n",
       "        vertical-align: middle;\n",
       "    }\n",
       "\n",
       "    .dataframe tbody tr th {\n",
       "        vertical-align: top;\n",
       "    }\n",
       "\n",
       "    .dataframe thead th {\n",
       "        text-align: right;\n",
       "    }\n",
       "</style>\n",
       "<table border=\"1\" class=\"dataframe\">\n",
       "  <thead>\n",
       "    <tr style=\"text-align: right;\">\n",
       "      <th></th>\n",
       "      <th>topic</th>\n",
       "      <th>title</th>\n",
       "      <th>link</th>\n",
       "      <th>reply</th>\n",
       "      <th>viewers</th>\n",
       "      <th>updated</th>\n",
       "      <th>date</th>\n",
       "    </tr>\n",
       "  </thead>\n",
       "  <tbody>\n",
       "    <tr>\n",
       "      <td>96</td>\n",
       "      <td>其他</td>\n",
       "      <td>马上要进隔离病房了！</td>\n",
       "      <td>https://www.jisilu.cn/question/347768</td>\n",
       "      <td>224</td>\n",
       "      <td>5339</td>\n",
       "      <td>2020-01-30 00:48:00</td>\n",
       "      <td>2020-01-30</td>\n",
       "    </tr>\n",
       "    <tr>\n",
       "      <td>212</td>\n",
       "      <td>其他</td>\n",
       "      <td>作为一个商人，口罩钱到底该不该挣</td>\n",
       "      <td>https://www.jisilu.cn/question/347611</td>\n",
       "      <td>161</td>\n",
       "      <td>4928</td>\n",
       "      <td>2020-01-29 00:53:00</td>\n",
       "      <td>2020-01-29</td>\n",
       "    </tr>\n",
       "    <tr>\n",
       "      <td>208</td>\n",
       "      <td>套利</td>\n",
       "      <td>为国接盘，最近2天接a50飞刀</td>\n",
       "      <td>https://www.jisilu.cn/question/347639</td>\n",
       "      <td>107</td>\n",
       "      <td>5892</td>\n",
       "      <td>2020-01-28 13:07:00</td>\n",
       "      <td>2020-01-28</td>\n",
       "    </tr>\n",
       "    <tr>\n",
       "      <td>215</td>\n",
       "      <td>其他</td>\n",
       "      <td>做个调查，有多少人准备开盘后清仓或者做空？</td>\n",
       "      <td>https://www.jisilu.cn/question/347601</td>\n",
       "      <td>81</td>\n",
       "      <td>3719</td>\n",
       "      <td>2020-01-28 22:06:00</td>\n",
       "      <td>2020-01-28</td>\n",
       "    </tr>\n",
       "    <tr>\n",
       "      <td>210</td>\n",
       "      <td>其他</td>\n",
       "      <td>凤凰网新闻</td>\n",
       "      <td>https://www.jisilu.cn/question/347633</td>\n",
       "      <td>78</td>\n",
       "      <td>6773</td>\n",
       "      <td>2020-01-28 22:25:00</td>\n",
       "      <td>2020-01-28</td>\n",
       "    </tr>\n",
       "    <tr>\n",
       "      <td>201</td>\n",
       "      <td>其他</td>\n",
       "      <td>大家说说节后的应对计划---互相参考一下</td>\n",
       "      <td>https://www.jisilu.cn/question/347669</td>\n",
       "      <td>74</td>\n",
       "      <td>3536</td>\n",
       "      <td>2020-01-28 21:51:00</td>\n",
       "      <td>2020-01-28</td>\n",
       "    </tr>\n",
       "    <tr>\n",
       "      <td>187</td>\n",
       "      <td>其他</td>\n",
       "      <td>4470例，还没有摆脱指数规律</td>\n",
       "      <td>https://www.jisilu.cn/question/347692</td>\n",
       "      <td>56</td>\n",
       "      <td>4707</td>\n",
       "      <td>2020-01-28 19:50:00</td>\n",
       "      <td>2020-01-28</td>\n",
       "    </tr>\n",
       "    <tr>\n",
       "      <td>31</td>\n",
       "      <td>其他</td>\n",
       "      <td>谨慎！当前节骨眼最好别乱说！</td>\n",
       "      <td>https://www.jisilu.cn/question/347850</td>\n",
       "      <td>56</td>\n",
       "      <td>3415</td>\n",
       "      <td>2020-01-29 22:27:00</td>\n",
       "      <td>2020-01-29</td>\n",
       "    </tr>\n",
       "    <tr>\n",
       "      <td>89</td>\n",
       "      <td>其他</td>\n",
       "      <td>拔乱反正：最高法院发文[怎么看待“武汉处理8名发布不实信息者”]</td>\n",
       "      <td>https://www.jisilu.cn/question/347779</td>\n",
       "      <td>49</td>\n",
       "      <td>3913</td>\n",
       "      <td>2020-01-29 18:54:00</td>\n",
       "      <td>2020-01-29</td>\n",
       "    </tr>\n",
       "    <tr>\n",
       "      <td>50</td>\n",
       "      <td>其他</td>\n",
       "      <td>最新中国疾控中心风险评估报告，告别恐慌！</td>\n",
       "      <td>https://www.jisilu.cn/question/347826</td>\n",
       "      <td>48</td>\n",
       "      <td>4259</td>\n",
       "      <td>2020-01-29 23:16:00</td>\n",
       "      <td>2020-01-29</td>\n",
       "    </tr>\n",
       "  </tbody>\n",
       "</table>\n",
       "</div>"
      ],
      "text/plain": [
       "    topic                             title  \\\n",
       "96     其他                        马上要进隔离病房了！   \n",
       "212    其他                  作为一个商人，口罩钱到底该不该挣   \n",
       "208    套利                   为国接盘，最近2天接a50飞刀   \n",
       "215    其他             做个调查，有多少人准备开盘后清仓或者做空？   \n",
       "210    其他                             凤凰网新闻   \n",
       "201    其他              大家说说节后的应对计划---互相参考一下   \n",
       "187    其他                   4470例，还没有摆脱指数规律   \n",
       "31     其他                    谨慎！当前节骨眼最好别乱说！   \n",
       "89     其他  拔乱反正：最高法院发文[怎么看待“武汉处理8名发布不实信息者”]   \n",
       "50     其他              最新中国疾控中心风险评估报告，告别恐慌！   \n",
       "\n",
       "                                      link  reply  viewers  \\\n",
       "96   https://www.jisilu.cn/question/347768    224     5339   \n",
       "212  https://www.jisilu.cn/question/347611    161     4928   \n",
       "208  https://www.jisilu.cn/question/347639    107     5892   \n",
       "215  https://www.jisilu.cn/question/347601     81     3719   \n",
       "210  https://www.jisilu.cn/question/347633     78     6773   \n",
       "201  https://www.jisilu.cn/question/347669     74     3536   \n",
       "187  https://www.jisilu.cn/question/347692     56     4707   \n",
       "31   https://www.jisilu.cn/question/347850     56     3415   \n",
       "89   https://www.jisilu.cn/question/347779     49     3913   \n",
       "50   https://www.jisilu.cn/question/347826     48     4259   \n",
       "\n",
       "                 updated        date  \n",
       "96   2020-01-30 00:48:00  2020-01-30  \n",
       "212  2020-01-29 00:53:00  2020-01-29  \n",
       "208  2020-01-28 13:07:00  2020-01-28  \n",
       "215  2020-01-28 22:06:00  2020-01-28  \n",
       "210  2020-01-28 22:25:00  2020-01-28  \n",
       "201  2020-01-28 21:51:00  2020-01-28  \n",
       "187  2020-01-28 19:50:00  2020-01-28  \n",
       "31   2020-01-29 22:27:00  2020-01-29  \n",
       "89   2020-01-29 18:54:00  2020-01-29  \n",
       "50   2020-01-29 23:16:00  2020-01-29  "
      ]
     },
     "execution_count": 26,
     "metadata": {},
     "output_type": "execute_result"
    }
   ],
   "source": [
    "df = df.drop_duplicates(subset=['topic', 'title'], keep='first')\n",
    "df.sort_values('reply', ascending=False).head(10)"
   ]
  },
  {
   "cell_type": "code",
   "execution_count": null,
   "metadata": {},
   "outputs": [],
   "source": []
  }
 ],
 "metadata": {
  "kernelspec": {
   "display_name": "Python 3",
   "language": "python",
   "name": "python3"
  },
  "language_info": {
   "codemirror_mode": {
    "name": "ipython",
    "version": 3
   },
   "file_extension": ".py",
   "mimetype": "text/x-python",
   "name": "python",
   "nbconvert_exporter": "python",
   "pygments_lexer": "ipython3",
   "version": "3.7.4"
  }
 },
 "nbformat": 4,
 "nbformat_minor": 2
}
